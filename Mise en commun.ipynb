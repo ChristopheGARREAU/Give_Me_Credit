{
 "cells": [
  {
   "cell_type": "code",
   "execution_count": 72,
   "metadata": {},
   "outputs": [],
   "source": [
    "import bigml.api\n",
    "from pandas import DataFrame\n",
    "from bigml.api import BigML\n",
    "import matplotlib.pyplot as plt\n",
    "import statistics"
   ]
  },
  {
   "cell_type": "code",
   "execution_count": 5,
   "metadata": {},
   "outputs": [],
   "source": [
    "api = BigML(project='project/5dc023c21efc927c10000414')"
   ]
  },
  {
   "cell_type": "code",
   "execution_count": 8,
   "metadata": {},
   "outputs": [],
   "source": [
    "source_train = api.create_source('https://oml-data.s3.amazonaws.com/kaggle-give-me-credit-train.csv')\n",
    "                                 \n",
    "# On crée un dataset à partir de la source puis on split (Val et Test)\n",
    "\n",
    "train_full = api.create_dataset(source_train, {\"name\": \"Train Full\"})\n",
    "val_set = api.create_dataset(train_full, {\"name\": \"Train_set\", \"sample_rate\": 0.8, \"seed\": \"my seed\"})\n",
    "test_set = api.create_dataset(train_full, {\"name\": \"Val_set\", \"sample_rate\": 0.8 , \"seed\": \"my seed\", \"out_of_bag\": True})\n",
    "# creation des listes vides pour contenir l'abscisse (taille du dataset) et l'ordonnée (AUC) pour le modele ensemble et deepnet"
   ]
  },
  {
   "cell_type": "code",
   "execution_count": null,
   "metadata": {},
   "outputs": [],
   "source": []
  },
  {
   "cell_type": "code",
   "execution_count": 10,
   "metadata": {},
   "outputs": [
    {
     "name": "stdout",
     "output_type": "stream",
     "text": [
      "[10, 20, 30, 40, 50, 60, 70, 80, 90, 100]\n",
      "[0.83076, 0.84627, 0.84933, 0.85015, 0.85006, 0.85289, 0.85377, 0.8541, 0.85426, 0.85478]\n",
      "[10, 20, 30, 40, 50, 60, 70, 80, 90, 100]\n",
      "[0.8184, 0.82239, 0.83516, 0.82896, 0.83169, 0.82009, 0.82913, 0.8263, 0.83729, 0.83564]\n"
     ]
    }
   ],
   "source": [
    "x_ensemble = []\n",
    "y_ensemble = []\n",
    "x_deepnet = []\n",
    "y_deepnet = []\n",
    "\n",
    "for i in range(1,11): # On fait une boucle pour faire varier de 10 à 100 % de lignes du dataset Val_set\n",
    "   \n",
    "    # On crée le nouveau dataset de train à partir du dataset de train initial\n",
    "    train_set = api.create_dataset(val_set, {\"name\": \"Train_Set_\" + str(i/10), \"sample_rate\": i/10, \"seed\": \"my seed\"})\n",
    "    api.ok(val_set)   \n",
    "   \n",
    "    # On crée le modèle (ensemble) à partir du train_set\n",
    "    ensemble = api.create_ensemble(train_set, {\"objective_field\" : \"SeriousDlqin2yrs\", \"name\": \"Ensemble_\" + str(i/10)})\n",
    "    api.ok(ensemble)\n",
    "   \n",
    "    # On évalue le modèle ensemble (avec le test_set)\n",
    "    evaluation = api.create_evaluation(ensemble, test_set)\n",
    "    api.ok(evaluation)\n",
    "   \n",
    "    # On crée le modèle (deepnet) à partir du train_set\n",
    "    deepnet = api.create_deepnet(train_set, {\"objective_field\" : \"SeriousDlqin2yrs\", \"name\": \"Deepnet_\" + str(i/10)})\n",
    "    api.ok(deepnet)\n",
    "   \n",
    "    # On évalue le modèle deepnet (avec le test_set)\n",
    "    evaluation_deepnet = api.create_evaluation(deepnet, test_set)\n",
    "    api.ok(evaluation_deepnet)\n",
    "\n",
    "    # On stocke dans une liste la valeur de l'axe des abscisses (graph_x) et la valeur de l'AUC (graph_y) à partir de la donnée BigML\n",
    "    x_ensemble.append(i*10)\n",
    "    y_ensemble.append(evaluation['object']['result']['model']['per_class_statistics'][1]['area_under_roc_curve'])\n",
    "    \n",
    "    x_deepnet.append(i*10)\n",
    "    y_deepnet.append(evaluation_deepnet['object']['result']['model']['per_class_statistics'][1]['area_under_roc_curve'])\n",
    "    \n",
    "    # On itere de 1 le compteur i et on recommence la boucle\n",
    "    i += 1\n",
    "\n",
    "# On imprime les resultats\n",
    "    \n",
    "print(x_ensemble)\n",
    "print(y_ensemble)\n",
    "print(x_deepnet)\n",
    "print(y_deepnet) \n"
   ]
  },
  {
   "cell_type": "code",
   "execution_count": 12,
   "metadata": {},
   "outputs": [
    {
     "data": {
      "text/plain": [
       "['eval_christophe.joblib']"
      ]
     },
     "execution_count": 12,
     "metadata": {},
     "output_type": "execute_result"
    }
   ],
   "source": [
    "from joblib import dump\n",
    "\n",
    "eval_christophe = [x_ensemble, y_ensemble, y_deepnet]\n",
    "dump(eval_christophe, 'eval_christophe.joblib')"
   ]
  },
  {
   "cell_type": "code",
   "execution_count": 51,
   "metadata": {},
   "outputs": [],
   "source": [
    "from joblib import load\n",
    "\n",
    "eval_maxime = load('eval_maxime.joblib')\n",
    "eval_laurent = load('eval_laurent.joblib')\n",
    "eval_maud = load('eval_maud.joblib')"
   ]
  },
  {
   "cell_type": "code",
   "execution_count": 63,
   "metadata": {},
   "outputs": [
    {
     "data": {
      "text/html": [
       "<div>\n",
       "<style scoped>\n",
       "    .dataframe tbody tr th:only-of-type {\n",
       "        vertical-align: middle;\n",
       "    }\n",
       "\n",
       "    .dataframe tbody tr th {\n",
       "        vertical-align: top;\n",
       "    }\n",
       "\n",
       "    .dataframe thead th {\n",
       "        text-align: right;\n",
       "    }\n",
       "</style>\n",
       "<table border=\"1\" class=\"dataframe\">\n",
       "  <thead>\n",
       "    <tr style=\"text-align: right;\">\n",
       "      <th></th>\n",
       "      <th>0</th>\n",
       "      <th>y_ensemble_christophe</th>\n",
       "      <th>y_ensemble_maxime</th>\n",
       "      <th>y_ensemble_laurent</th>\n",
       "      <th>y_ensemble_maud</th>\n",
       "      <th>ensemble_moyenne</th>\n",
       "      <th>y_deepnet_christophe</th>\n",
       "      <th>y_deepnet_maxime</th>\n",
       "      <th>y_deepnet_laurent</th>\n",
       "      <th>y_deepnet_maud</th>\n",
       "      <th>deepnet_moyenne</th>\n",
       "    </tr>\n",
       "  </thead>\n",
       "  <tbody>\n",
       "    <tr>\n",
       "      <td>0</td>\n",
       "      <td>10</td>\n",
       "      <td>0.83076</td>\n",
       "      <td>0.83256</td>\n",
       "      <td>0.83111</td>\n",
       "      <td>0.83108</td>\n",
       "      <td>0.831378</td>\n",
       "      <td>0.81840</td>\n",
       "      <td>0.83256</td>\n",
       "      <td>0.81840</td>\n",
       "      <td>0.83108</td>\n",
       "      <td>0.825110</td>\n",
       "    </tr>\n",
       "    <tr>\n",
       "      <td>1</td>\n",
       "      <td>20</td>\n",
       "      <td>0.84627</td>\n",
       "      <td>0.84551</td>\n",
       "      <td>0.84304</td>\n",
       "      <td>0.84714</td>\n",
       "      <td>0.845490</td>\n",
       "      <td>0.82239</td>\n",
       "      <td>0.84551</td>\n",
       "      <td>0.82239</td>\n",
       "      <td>0.84714</td>\n",
       "      <td>0.834357</td>\n",
       "    </tr>\n",
       "    <tr>\n",
       "      <td>2</td>\n",
       "      <td>30</td>\n",
       "      <td>0.84933</td>\n",
       "      <td>0.85047</td>\n",
       "      <td>0.84761</td>\n",
       "      <td>0.84901</td>\n",
       "      <td>0.849105</td>\n",
       "      <td>0.83516</td>\n",
       "      <td>0.85047</td>\n",
       "      <td>0.83516</td>\n",
       "      <td>0.84901</td>\n",
       "      <td>0.842450</td>\n",
       "    </tr>\n",
       "    <tr>\n",
       "      <td>3</td>\n",
       "      <td>40</td>\n",
       "      <td>0.85015</td>\n",
       "      <td>0.85209</td>\n",
       "      <td>0.85056</td>\n",
       "      <td>0.85021</td>\n",
       "      <td>0.850753</td>\n",
       "      <td>0.82896</td>\n",
       "      <td>0.85209</td>\n",
       "      <td>0.82896</td>\n",
       "      <td>0.85021</td>\n",
       "      <td>0.840055</td>\n",
       "    </tr>\n",
       "    <tr>\n",
       "      <td>4</td>\n",
       "      <td>50</td>\n",
       "      <td>0.85006</td>\n",
       "      <td>0.85215</td>\n",
       "      <td>0.85382</td>\n",
       "      <td>0.85256</td>\n",
       "      <td>0.852147</td>\n",
       "      <td>0.83169</td>\n",
       "      <td>0.85215</td>\n",
       "      <td>0.83169</td>\n",
       "      <td>0.85256</td>\n",
       "      <td>0.842023</td>\n",
       "    </tr>\n",
       "    <tr>\n",
       "      <td>5</td>\n",
       "      <td>60</td>\n",
       "      <td>0.85289</td>\n",
       "      <td>0.85402</td>\n",
       "      <td>0.85311</td>\n",
       "      <td>0.85261</td>\n",
       "      <td>0.853158</td>\n",
       "      <td>0.82009</td>\n",
       "      <td>0.85402</td>\n",
       "      <td>0.82009</td>\n",
       "      <td>0.85261</td>\n",
       "      <td>0.836703</td>\n",
       "    </tr>\n",
       "    <tr>\n",
       "      <td>6</td>\n",
       "      <td>70</td>\n",
       "      <td>0.85377</td>\n",
       "      <td>0.85466</td>\n",
       "      <td>0.85428</td>\n",
       "      <td>0.85279</td>\n",
       "      <td>0.853875</td>\n",
       "      <td>0.82913</td>\n",
       "      <td>0.85466</td>\n",
       "      <td>0.82913</td>\n",
       "      <td>0.85279</td>\n",
       "      <td>0.841428</td>\n",
       "    </tr>\n",
       "    <tr>\n",
       "      <td>7</td>\n",
       "      <td>80</td>\n",
       "      <td>0.85410</td>\n",
       "      <td>0.85534</td>\n",
       "      <td>0.85373</td>\n",
       "      <td>0.85481</td>\n",
       "      <td>0.854495</td>\n",
       "      <td>0.82630</td>\n",
       "      <td>0.85534</td>\n",
       "      <td>0.82630</td>\n",
       "      <td>0.85481</td>\n",
       "      <td>0.840688</td>\n",
       "    </tr>\n",
       "    <tr>\n",
       "      <td>8</td>\n",
       "      <td>90</td>\n",
       "      <td>0.85426</td>\n",
       "      <td>0.85346</td>\n",
       "      <td>0.85395</td>\n",
       "      <td>0.85559</td>\n",
       "      <td>0.854315</td>\n",
       "      <td>0.83729</td>\n",
       "      <td>0.85346</td>\n",
       "      <td>0.83729</td>\n",
       "      <td>0.85559</td>\n",
       "      <td>0.845907</td>\n",
       "    </tr>\n",
       "    <tr>\n",
       "      <td>9</td>\n",
       "      <td>100</td>\n",
       "      <td>0.85478</td>\n",
       "      <td>0.85384</td>\n",
       "      <td>0.85574</td>\n",
       "      <td>0.85474</td>\n",
       "      <td>0.854775</td>\n",
       "      <td>0.83564</td>\n",
       "      <td>0.85384</td>\n",
       "      <td>0.83564</td>\n",
       "      <td>0.85474</td>\n",
       "      <td>0.844965</td>\n",
       "    </tr>\n",
       "  </tbody>\n",
       "</table>\n",
       "</div>"
      ],
      "text/plain": [
       "     0  y_ensemble_christophe  y_ensemble_maxime  y_ensemble_laurent  \\\n",
       "0   10                0.83076            0.83256             0.83111   \n",
       "1   20                0.84627            0.84551             0.84304   \n",
       "2   30                0.84933            0.85047             0.84761   \n",
       "3   40                0.85015            0.85209             0.85056   \n",
       "4   50                0.85006            0.85215             0.85382   \n",
       "5   60                0.85289            0.85402             0.85311   \n",
       "6   70                0.85377            0.85466             0.85428   \n",
       "7   80                0.85410            0.85534             0.85373   \n",
       "8   90                0.85426            0.85346             0.85395   \n",
       "9  100                0.85478            0.85384             0.85574   \n",
       "\n",
       "   y_ensemble_maud  ensemble_moyenne  y_deepnet_christophe  y_deepnet_maxime  \\\n",
       "0          0.83108          0.831378               0.81840           0.83256   \n",
       "1          0.84714          0.845490               0.82239           0.84551   \n",
       "2          0.84901          0.849105               0.83516           0.85047   \n",
       "3          0.85021          0.850753               0.82896           0.85209   \n",
       "4          0.85256          0.852147               0.83169           0.85215   \n",
       "5          0.85261          0.853158               0.82009           0.85402   \n",
       "6          0.85279          0.853875               0.82913           0.85466   \n",
       "7          0.85481          0.854495               0.82630           0.85534   \n",
       "8          0.85559          0.854315               0.83729           0.85346   \n",
       "9          0.85474          0.854775               0.83564           0.85384   \n",
       "\n",
       "   y_deepnet_laurent  y_deepnet_maud  deepnet_moyenne  \n",
       "0            0.81840         0.83108         0.825110  \n",
       "1            0.82239         0.84714         0.834357  \n",
       "2            0.83516         0.84901         0.842450  \n",
       "3            0.82896         0.85021         0.840055  \n",
       "4            0.83169         0.85256         0.842023  \n",
       "5            0.82009         0.85261         0.836703  \n",
       "6            0.82913         0.85279         0.841428  \n",
       "7            0.82630         0.85481         0.840688  \n",
       "8            0.83729         0.85559         0.845907  \n",
       "9            0.83564         0.85474         0.844965  "
      ]
     },
     "execution_count": 63,
     "metadata": {},
     "output_type": "execute_result"
    }
   ],
   "source": [
    "df=DataFrame(eval_christophe[0])\n",
    "df['y_ensemble_christophe']=eval_christophe[1]\n",
    "df['y_ensemble_maxime']=eval_maxime[1]\n",
    "df['y_ensemble_laurent']=eval_laurent[1]\n",
    "df['y_ensemble_maud']=eval_maud[1]\n",
    "\n",
    "df2=DataFrame(eval_christophe[1])\n",
    "df2['y_ensemble_maxime']=eval_maxime[1]\n",
    "df2['y_ensemble_laurent']=eval_laurent[1]\n",
    "df2['y_ensemble_maud']=eval_maud[1]\n",
    "\n",
    "df['ensemble_moyenne']=df2.mean(axis=1)\n",
    "\n",
    "df['y_deepnet_christophe']=eval_christophe[2]\n",
    "df['y_deepnet_maxime']=eval_maxime[2]\n",
    "df['y_deepnet_laurent']=eval_laurent[2]\n",
    "df['y_deepnet_maud']=eval_maud[2]\n",
    "\n",
    "df3=DataFrame(eval_christophe[2])\n",
    "df3['y_deepnet_maxime']=eval_maxime[2]\n",
    "df3['y_deepnet_laurent']=eval_laurent[2]\n",
    "df3['y_deepnet_maud']=eval_maud[2]\n",
    "\n",
    "\n",
    "df['deepnet_moyenne']=df3.mean(axis=1)\n",
    "df\n"
   ]
  },
  {
   "cell_type": "code",
   "execution_count": 64,
   "metadata": {},
   "outputs": [
    {
     "data": {
      "text/plain": [
       "<matplotlib.axes._subplots.AxesSubplot at 0x7fa3e568da90>"
      ]
     },
     "execution_count": 64,
     "metadata": {},
     "output_type": "execute_result"
    },
    {
     "data": {
      "image/png": "[encoded data removed]",
      "text/plain": [
       "<Figure size 432x288 with 1 Axes>"
      ]
     },
     "metadata": {
      "needs_background": "light"
     },
     "output_type": "display_data"
    }
   ],
   "source": [
    "%matplotlib inline\n",
    "\n",
    "df['ensemble_moyenne'].plot()\n",
    "df['deepnet_moyenne'].plot()"
   ]
  },
  {
   "cell_type": "code",
   "execution_count": 74,
   "metadata": {},
   "outputs": [
    {
     "data": {
      "text/plain": [
       "[<matplotlib.lines.Line2D at 0x7fa3e552f5d0>,\n",
       " <matplotlib.lines.Line2D at 0x7fa3e5537a10>]"
      ]
     },
     "execution_count": 74,
     "metadata": {},
     "output_type": "execute_result"
    },
    {
     "data": {
      "image/png": "[encoded data removed]",
      "text/plain": [
       "<Figure size 432x288 with 1 Axes>"
      ]
     },
     "metadata": {
      "needs_background": "light"
     },
     "output_type": "display_data"
    }
   ],
   "source": [
    "x_ensemble = []\n",
    "y_ensemble = []\n",
    "y_deepnet = []\n",
    "y_ensemble_mean = []\n",
    "y_deepnet_mean = []\n",
    "i =0\n",
    "\n",
    "for i in range(10):\n",
    "    x = eval_christophe[0]\n",
    "    y_ensemble = (eval_christophe[1][i] + eval_maxime[1][i] + eval_laurent[1][i] + eval_maud[1][i])/4\n",
    "    y_deepnet = (eval_christophe[2][i] + eval_maxime[2][i] + eval_laurent[2][i] + eval_maud[2][i])/4\n",
    "    y_ensemble_mean.append(y_ensemble)\n",
    "    y_deepnet_mean.append(y_deepnet)\n",
    "    \n",
    "%matplotlib inline\n",
    "plt.plot(x, y_ensemble_mean, ':go', x, y_deepnet_mean, ':mo')"
   ]
  },
  {
   "cell_type": "code",
   "execution_count": null,
   "metadata": {},
   "outputs": [],
   "source": [
    "mean_lmcm = DataFrame({'y_ensemble_mean': y_ensemble_mean, 'y_deepnet_mean': y_deepnet_mean},\n",
    "                      index = eval_maud[0])\n",
    "\n",
    "mean_lmcm"
   ]
  }
 ],
 "metadata": {
  "kernelspec": {
   "display_name": "Python 3",
   "language": "python",
   "name": "python3"
  },
  "language_info": {
   "codemirror_mode": {
    "name": "ipython",
    "version": 3
   },
   "file_extension": ".py",
   "mimetype": "text/x-python",
   "name": "python",
   "nbconvert_exporter": "python",
   "pygments_lexer": "ipython3",
   "version": "3.7.4"
  },
  "toc": {
   "base_numbering": 1,
   "nav_menu": {},
   "number_sections": true,
   "sideBar": true,
   "skip_h1_title": false,
   "title_cell": "Table of Contents",
   "title_sidebar": "Contents",
   "toc_cell": false,
   "toc_position": {},
   "toc_section_display": true,
   "toc_window_display": false
  }
 },
 "nbformat": 4,
 "nbformat_minor": 2
}
