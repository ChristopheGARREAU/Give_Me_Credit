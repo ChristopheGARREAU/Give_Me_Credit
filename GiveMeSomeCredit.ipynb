{
 "cells": [
  {
   "cell_type": "markdown",
   "metadata": {},
   "source": [
    "## Import des libraries"
   ]
  },
  {
   "cell_type": "code",
   "execution_count": 1,
   "metadata": {},
   "outputs": [],
   "source": [
    "from pandas import DataFrame\n",
    "from pandas import read_csv\n",
    "from pandas import crosstab\n",
    "import bigml.api\n",
    "from bigml.api import BigML\n",
    "import kaggle\n",
    "import matplotlib\n"
   ]
  },
  {
   "cell_type": "markdown",
   "metadata": {},
   "source": [
    "## Modification des features de cs-train"
   ]
  },
  {
   "cell_type": "code",
   "execution_count": null,
   "metadata": {},
   "outputs": [],
   "source": [
    "df = read_csv('cs-training.csv', header=0, index_col=0)\n",
    "df.fillna(0, inplace=True)\n",
    "df['NumberOfTimeTotalDelay'] = df['NumberOfTime30-59DaysPastDueNotWorse']\n",
    "                                + df['NumberOfTimes90DaysLate']\n",
    "                                + df['NumberOfTime60-89DaysPastDueNotWorse']\n",
    "df['isOld'] =df['age']>70\n",
    "df.to_csv('train_full.csv')"
   ]
  },
  {
   "cell_type": "markdown",
   "metadata": {},
   "source": [
    "## Modification des features de cs_test"
   ]
  },
  {
   "cell_type": "code",
   "execution_count": null,
   "metadata": {},
   "outputs": [],
   "source": [
    "df = read_csv('cs-test.csv', header=0, index_col=0)\n",
    "df.fillna(0, inplace=True)\n",
    "df['NumberOfTimeTotalDelay'] = df['NumberOfTime30-59DaysPastDueNotWorse']\n",
    "                                + df['NumberOfTimes90DaysLate']\n",
    "                                + df['NumberOfTime60-89DaysPastDueNotWorse']\n",
    "df['isOld'] =df['age']>70\n",
    "df.to_csv('test_full.csv')"
   ]
  },
  {
   "cell_type": "markdown",
   "metadata": {},
   "source": [
    "## Identification du projet sur BigML"
   ]
  },
  {
   "cell_type": "code",
   "execution_count": 3,
   "metadata": {},
   "outputs": [],
   "source": [
    "api = BigML(project='project/5d94a344eba31d460c000235')"
   ]
  },
  {
   "cell_type": "markdown",
   "metadata": {},
   "source": [
    "## Création des datasets avec les cs-train et cs-test modifiés"
   ]
  },
  {
   "cell_type": "code",
   "execution_count": null,
   "metadata": {},
   "outputs": [],
   "source": [
    "source_train = api.create_source('train_full.csv')\n",
    "origin_dataset = api.create_dataset(source_train)\n",
    "source_test = api.create_source('test_full.csv')\n",
    "test_dataset = api.create_dataset(source_test)"
   ]
  },
  {
   "cell_type": "markdown",
   "metadata": {},
   "source": [
    "## Split du train dataset"
   ]
  },
  {
   "cell_type": "code",
   "execution_count": null,
   "metadata": {},
   "outputs": [],
   "source": [
    "train_dataset = api.create_dataset(\n",
    "    origin_dataset, {\"name\": \"Training_split_Jupyter\",\n",
    "                     \"sample_rate\": 0.8, \"seed\": \"my seed\"})\n",
    "val_dataset = api.create_dataset(\n",
    "    origin_dataset, {\"name\": \"Validation_split_Jupyter\",\n",
    "                     \"sample_rate\": 0.8, \"seed\": \"my seed\",\n",
    "                     \"out_of_bag\": True})"
   ]
  },
  {
   "cell_type": "markdown",
   "metadata": {},
   "source": [
    "## Création du modèle avec le split de train dataset"
   ]
  },
  {
   "cell_type": "code",
   "execution_count": null,
   "metadata": {},
   "outputs": [],
   "source": [
    "ensemble = api.create_ensemble(train_dataset,{\"name\": \"ensemble_Jupyter\",\n",
    "     \"objective_field\": \"SeriousDlqin2yrs\"})"
   ]
  },
  {
   "cell_type": "markdown",
   "metadata": {},
   "source": [
    "## Evaluation du modèle avec val dataset"
   ]
  },
  {
   "cell_type": "code",
   "execution_count": null,
   "metadata": {},
   "outputs": [],
   "source": [
    "evaluation = api.create_evaluation(ensemble, val_dataset)"
   ]
  },
  {
   "cell_type": "markdown",
   "metadata": {},
   "source": [
    "## Création du Batch Prediction, avec le test set modifié"
   ]
  },
  {
   "cell_type": "code",
   "execution_count": null,
   "metadata": {},
   "outputs": [],
   "source": [
    "batch_prediction = api.create_batch_prediction(ensemble, test_dataset, {\n",
    "    \"name\": \"ensemble_prediction_Jupyter\", \"all_fields\": True,\n",
    "    \"header\": True,\n",
    "    \"confidence\": True,\n",
    "    \"probabilities\": True})\n",
    "api.ok(batch_prediction)"
   ]
  },
  {
   "cell_type": "markdown",
   "metadata": {},
   "source": [
    "## Export du batch prediction en csv"
   ]
  },
  {
   "cell_type": "code",
   "execution_count": null,
   "metadata": {},
   "outputs": [],
   "source": [
    "api.download_batch_prediction(batch_prediction,\n",
    "    filename='ensemble_prediction_Jupyter.csv')"
   ]
  },
  {
   "cell_type": "markdown",
   "metadata": {},
   "source": [
    "## Modification du fichier csv à envoyer à Kaggle"
   ]
  },
  {
   "cell_type": "code",
   "execution_count": null,
   "metadata": {},
   "outputs": [],
   "source": [
    "df = read_csv('ensemble_prediction_Jupyter.csv', header=0, index_col=0)\n",
    "df2 =df [['1 probability']]\n",
    "df2.index.names = ['Id']\n",
    "df2.rename(columns={\"1 probability\": \"Probability\"},inplace=True)"
   ]
  },
  {
   "cell_type": "code",
   "execution_count": null,
   "metadata": {},
   "outputs": [],
   "source": [
    "df2.to_csv('prediction_kaggle.csv')"
   ]
  },
  {
   "cell_type": "markdown",
   "metadata": {},
   "source": [
    "## Soumission à Kaggle"
   ]
  },
  {
   "cell_type": "code",
   "execution_count": null,
   "metadata": {},
   "outputs": [],
   "source": [
    "submission_file = \"prediction_kaggle.csv\"\n",
    "kaggle.api.competition_submit(submission_file, \"BigML ensemble\", \"GiveMeSomeCredit\")"
   ]
  },
  {
   "cell_type": "markdown",
   "metadata": {},
   "source": [
    "## Afficher l'évaluation du modèle"
   ]
  },
  {
   "cell_type": "code",
   "execution_count": null,
   "metadata": {},
   "outputs": [],
   "source": [
    "evaluation = api.get_evaluation('evaluation/5dacd5997811dd0137000513')\n",
    "api.pprint(evaluation['object']['result'])"
   ]
  },
  {
   "cell_type": "markdown",
   "metadata": {},
   "source": [
    "## Récupérer l'accuracy de l'évaluation"
   ]
  },
  {
   "cell_type": "code",
   "execution_count": null,
   "metadata": {
    "scrolled": true
   },
   "outputs": [],
   "source": [
    "api.pprint(evaluation['object']['result']['model']['accuracy'])"
   ]
  },
  {
   "cell_type": "markdown",
   "metadata": {},
   "source": [
    "## Batch Prediction sur val dataset pour estimer les erreurs"
   ]
  },
  {
   "cell_type": "code",
   "execution_count": null,
   "metadata": {},
   "outputs": [],
   "source": [
    "batch_prediction = api.create_batch_prediction('ensemble/5dacd57a7811dd7f2d003bf8', 'dataset/5dacd5617811dd7f2d003bf5', {\n",
    "    \"name\": \"ensemble_prediction_sur_validation\", \"all_fields\": True,\n",
    "    \"header\": True,\n",
    "    \"confidence\": True,\n",
    "    \"probabilities\": True})\n",
    "api.ok(batch_prediction)"
   ]
  },
  {
   "cell_type": "code",
   "execution_count": null,
   "metadata": {},
   "outputs": [],
   "source": [
    "api.download_batch_prediction('batchprediction/5db1c37ee47684746800980b',\n",
    "    filename='ensemble_prediction_valset.csv')"
   ]
  },
  {
   "cell_type": "code",
   "execution_count": null,
   "metadata": {},
   "outputs": [],
   "source": [
    "df = read_csv('ensemble_prediction_valset.csv', header=0, index_col=0)\n",
    "df"
   ]
  },
  {
   "cell_type": "code",
   "execution_count": null,
   "metadata": {},
   "outputs": [],
   "source": [
    "df.rename(columns={\"SeriousDlqin2yrs.1\" : \"SeriousDlqin2yrs_predict\"},inplace=True)\n",
    "df"
   ]
  },
  {
   "cell_type": "markdown",
   "metadata": {},
   "source": [
    "## Création fonction Matrice Confusion (sans seuil)"
   ]
  },
  {
   "cell_type": "code",
   "execution_count": null,
   "metadata": {},
   "outputs": [],
   "source": [
    "def confusion(row):\n",
    "    if (row['SeriousDlqin2yrs'] == 0 and row['SeriousDlqin2yrs_predict'] == 0):\n",
    "        confusion_value = 'TN'\n",
    "    if (row['SeriousDlqin2yrs'] == 0 and row['SeriousDlqin2yrs_predict'] == 1):\n",
    "        confusion_value = 'FP'\n",
    "    if (row['SeriousDlqin2yrs'] == 1 and row['SeriousDlqin2yrs_predict'] == 0):\n",
    "        confusion_value = 'FN'\n",
    "    if (row['SeriousDlqin2yrs'] == 1 and row['SeriousDlqin2yrs_predict'] == 1):\n",
    "        confusion_value = 'TP'\n",
    "    return confusion_value\n",
    "\n",
    "df['confusion'] = df.apply(confusion, axis = 1)\n",
    "df.to_csv('confusion_matrix.csv', index=False)"
   ]
  },
  {
   "cell_type": "markdown",
   "metadata": {},
   "source": [
    "## Création fonction Matrice Confusion (avec seuil)"
   ]
  },
  {
   "cell_type": "code",
   "execution_count": null,
   "metadata": {},
   "outputs": [],
   "source": [
    "def seuil(row):    \n",
    "    seuil_value = 0.5\n",
    "    if (row['1 probability'] < seuil_value):\n",
    "        seuil_value = 0\n",
    "    else:\n",
    "        seuil_value = 1\n",
    "    return seuil_value\n",
    "\n",
    "def confusion_seuil(row):\n",
    "    if (row['SeriousDlqin2yrs'] == 0 and row['my_predict'] == 0):\n",
    "        confusion_value = 'TN'\n",
    "    if (row['SeriousDlqin2yrs'] == 0 and row['my_predict'] == 1):\n",
    "        confusion_value = 'FP'\n",
    "    if (row['SeriousDlqin2yrs'] == 1 and row['my_predict'] == 0):\n",
    "        confusion_value = 'FN'\n",
    "    if (row['SeriousDlqin2yrs'] == 1 and row['my_predict'] == 1):\n",
    "        confusion_value = 'TP'\n",
    "    return confusion_value\n",
    "\n",
    "df['my_predict'] = df.apply(seuil, axis = 1)\n",
    "df['confusion'] = df.apply(confusion_seuil, axis = 1)\n",
    "df.to_csv('confusion_matrix_avec seuil.csv', index=False)"
   ]
  },
  {
   "cell_type": "code",
   "execution_count": null,
   "metadata": {},
   "outputs": [],
   "source": [
    "df = read_csv('confusion_matrix.csv', header=0, index_col=False)"
   ]
  },
  {
   "cell_type": "markdown",
   "metadata": {},
   "source": [
    "## Compte le nombre d'erreurs (sans seuil)"
   ]
  },
  {
   "cell_type": "code",
   "execution_count": null,
   "metadata": {},
   "outputs": [],
   "source": [
    "nb_erreur = list(df.confusion.values)\n",
    "TP = nb_erreur.count(\"TP\")\n",
    "TN = nb_erreur.count(\"TN\")\n",
    "FP = nb_erreur.count(\"FP\")\n",
    "FN = nb_erreur.count(\"FN\")\n",
    "\n",
    "print(f\"TP = {TP} \\nTN = {TN} \\nFP = {FP} \\nFN = {FN}\")\n"
   ]
  },
  {
   "cell_type": "markdown",
   "metadata": {},
   "source": [
    "## Compte le nombre d'erreurs (avec seuil)"
   ]
  },
  {
   "cell_type": "code",
   "execution_count": null,
   "metadata": {},
   "outputs": [],
   "source": [
    "df = read_csv('confusion_matrix_avec seuil.csv', header=0, index_col=False)\n",
    "nb_erreur = list(df.confusion.values)\n",
    "TP = nb_erreur.count(\"TP\")\n",
    "TN = nb_erreur.count(\"TN\")\n",
    "FP = nb_erreur.count(\"FP\")\n",
    "FN = nb_erreur.count(\"FN\")\n",
    "\n",
    "print(f\"TP = {TP} \\nTN = {TN} \\nFP = {FP} \\nFN = {FN}\")"
   ]
  },
  {
   "cell_type": "markdown",
   "metadata": {},
   "source": [
    "## Calcul du gain total"
   ]
  },
  {
   "cell_type": "code",
   "execution_count": null,
   "metadata": {},
   "outputs": [],
   "source": [
    "#Actual / Predicted    0    1\n",
    "#0    $500    -$500\n",
    "#1    -$2500    $0\n",
    "\n",
    "#Actual / Predicted 0 / 1\n",
    "#0    TN    FP\n",
    "#1    FN    TP\n",
    "\n",
    "gain_total = TN * 500 + FP * -500 + FN * -2500 + TP * 0\n",
    "print(f\"Le gain total est: {gain_total}\")"
   ]
  },
  {
   "cell_type": "markdown",
   "metadata": {},
   "source": [
    "## Optimisation du seuil pour maximaliser le gain total"
   ]
  },
  {
   "cell_type": "code",
   "execution_count": null,
   "metadata": {},
   "outputs": [],
   "source": [
    "def seuil_optimisation(row):\n",
    "    seuil_value = seuil\n",
    "    if (row['1 probability'] < seuil_value):\n",
    "        seuil_value = 0\n",
    "    else:\n",
    "        seuil_value = 1\n",
    "    return seuil_value\n",
    "\n",
    "seuil = 0.5\n",
    "df['my_predict'] = df.apply(seuil_optimisation, axis = 1)\n",
    "df['confusion'] = df.apply(confusion, axis = 1)\n"
   ]
  },
  {
   "cell_type": "code",
   "execution_count": null,
   "metadata": {},
   "outputs": [],
   "source": [
    "def confusion_seuil(row):\n",
    "    if (row['SeriousDlqin2yrs'] == 0 and row['my_predict'] == 0):\n",
    "        confusion_value = 'TN'\n",
    "    if (row['SeriousDlqin2yrs'] == 0 and row['my_predict'] == 1):\n",
    "        confusion_value = 'FP'\n",
    "    if (row['SeriousDlqin2yrs'] == 1 and row['my_predict'] == 0):\n",
    "        confusion_value = 'FN'\n",
    "    if (row['SeriousDlqin2yrs'] == 1 and row['my_predict'] == 1):\n",
    "        confusion_value = 'TP'\n",
    "    return confusion_value\n",
    "\n",
    "df = read_csv('ensemble_prediction_valset.csv', header=0, index_col=0)\n",
    "seuil = 0.5\n",
    "\n",
    "# initialisation gain_total_max avec seuil 0.5\n",
    "df['my_predict'] = df.apply(seuil_optimisation, axis = 1)\n",
    "df['confusion'] = df.apply(confusion_seuil, axis = 1)\n",
    "nb_erreur = list(df.confusion.values)\n",
    "TP = nb_erreur.count(\"TP\")\n",
    "TN = nb_erreur.count(\"TN\")\n",
    "FP = nb_erreur.count(\"FP\")\n",
    "FN = nb_erreur.count(\"FN\")\n",
    "gain_total_max = TN * 500 + FP * -500 + FN * -2500 + TP * 0\n",
    "gain_total = 0\n",
    "print(f\"Gain total de référence: {gain_total}\")\n",
    "seuil = 0\n",
    "seuil_pas = 0.01\n",
    "\n",
    "# bouclage du seuil\n",
    "\n",
    "while seuil < 1:\n",
    "    seuil += seuil_pas\n",
    "    df['my_predict'] = df.apply(seuil_optimisation, axis = 1)\n",
    "    df['confusion'] = df.apply(confusion_seuil, axis = 1)\n",
    "    \n",
    "    nb_erreur = list(df.confusion.values)\n",
    "    TP = nb_erreur.count(\"TP\")\n",
    "    TN = nb_erreur.count(\"TN\")\n",
    "    FP = nb_erreur.count(\"FP\")\n",
    "    FN = nb_erreur.count(\"FN\")\n",
    "    gain_total = TN * 500 + FP * -500 + FN * -2500 + TP * 0\n",
    "    if gain_total > gain_total_max:\n",
    "        gain_total_max = gain_total\n",
    "        seuil_max = seuil - seuil_pas\n",
    "    print(f\"Seuil: {round(seuil-seuil_pas, 2)} Gain total: {gain_total}\")\n",
    "seuil -= seuil_pas\n",
    "print(f\"Le gain total max est {gain_total_max} pour un seuil de {round(seuil_max, 2)}\")  "
   ]
  },
  {
   "cell_type": "markdown",
   "metadata": {},
   "source": [
    "## Sauvegarde avec le meilleur seuil"
   ]
  },
  {
   "cell_type": "code",
   "execution_count": null,
   "metadata": {},
   "outputs": [],
   "source": [
    "seuil = seuil_max\n",
    "df = read_csv('ensemble_prediction_valset.csv', header=0, index_col=0)\n",
    "df['my_predict'] = df.apply(seuil_optimisation, axis = 1)\n",
    "df['confusion'] = df.apply(confusion_seuil, axis = 1)\n",
    "nb_erreur = list(df.confusion.values)\n",
    "TP = nb_erreur.count(\"TP\")\n",
    "TN = nb_erreur.count(\"TN\")\n",
    "FP = nb_erreur.count(\"FP\")\n",
    "FN = nb_erreur.count(\"FN\")\n",
    "gain_total = TN * 500 + FP * -500 + FN * -2500 + TP * 0\n",
    "print(f\"Le gain total max est {gain_total_max} pour un seuil de {round(seuil_max, 2)}\")\n",
    "df.to_csv('confusion_matrix_avec_meilleur_seuil.csv', index=True)"
   ]
  },
  {
   "cell_type": "markdown",
   "metadata": {},
   "source": [
    "## Accuracy"
   ]
  },
  {
   "cell_type": "code",
   "execution_count": null,
   "metadata": {},
   "outputs": [],
   "source": [
    "Accuracy = (TP + TN) / (TP + TN + FP + FN)\n",
    "print(Accuracy)"
   ]
  },
  {
   "cell_type": "markdown",
   "metadata": {},
   "source": [
    "## 100 premières erreurs"
   ]
  },
  {
   "cell_type": "code",
   "execution_count": null,
   "metadata": {},
   "outputs": [],
   "source": [
    "df = read_csv('confusion_matrix_avec_meilleur_seuil.csv', header=0, index_col=False)\n",
    "df.rename(columns={\"field1\" : \"Id\"},inplace=True)\n",
    "df.to_csv('confusion_matrix_avec_meilleur_seuil.csv', index=True)"
   ]
  },
  {
   "cell_type": "code",
   "execution_count": null,
   "metadata": {
    "scrolled": true
   },
   "outputs": [],
   "source": [
    "df['error_abs'] = abs(seuil_max - df['1 probability'])\n",
    "df_2 = df[df['confusion'].isin([\"FN\",\"FP\"])]\n",
    "df_2.sort_values(by=['error_abs'], ascending=False, inplace=True)\n",
    "df_2.head(100)"
   ]
  },
  {
   "cell_type": "code",
   "execution_count": null,
   "metadata": {},
   "outputs": [],
   "source": [
    "df_2.head(100).to_csv('100_grosses_erreurs.csv', index=False)"
   ]
  },
  {
   "cell_type": "code",
   "execution_count": null,
   "metadata": {
    "scrolled": true
   },
   "outputs": [],
   "source": [
    "df3 = read_csv('100_grosses_erreurs.csv')\n",
    "df3"
   ]
  },
  {
   "cell_type": "markdown",
   "metadata": {},
   "source": [
    "## Création et affichage de la courbe du gain en fonction de l'indice (Guillaume)"
   ]
  },
  {
   "cell_type": "code",
   "execution_count": null,
   "metadata": {},
   "outputs": [],
   "source": [
    "def cost_threshold(threshold):\n",
    "    prediction_threshold = prediction['1 probability'] > threshold\n",
    "\n",
    "    #~ = \"not\" pour les tableaux / & = \"and\" pour les tableaux / | = \"or\" pour les tableaux\n",
    "\n",
    "    P_pred = prediction_threshold\n",
    "    N_pred = ~prediction_threshold\n",
    "\n",
    "    P_real = (prediction['SeriousDlqin2yrs'] == 1)\n",
    "    N_real = (prediction['SeriousDlqin2yrs'] == 0)\n",
    "\n",
    "    TP = len(prediction.loc[P_pred & P_real])\n",
    "    TN = len(prediction.loc[N_pred & N_real])\n",
    "    FP = len(prediction.loc[P_pred & N_real])\n",
    "    FN = len(prediction.loc[N_pred & P_real])\n",
    "\n",
    "    TP_cost = 0\n",
    "    FN_cost = -2500\n",
    "    FP_cost = -500\n",
    "    TN_cost = 500\n",
    "\n",
    "    cost = TP * TP_cost\n",
    "    cost += TN * TN_cost\n",
    "    cost += FP * FP_cost\n",
    "    cost += FN * FN_cost\n",
    "\n",
    "    return cost\n",
    "\n",
    "import matplotlib.pyplot as plt\n",
    "%matplotlib inline\n",
    "table = [cost_threshold(n/1000) for n in range(0,1000)]\n",
    "plt.plot(table)\n"
   ]
  },
  {
   "cell_type": "markdown",
   "metadata": {},
   "source": [
    "Test méthode Guillaume pour la courbe d'opitmisation du seuil"
   ]
  },
  {
   "cell_type": "code",
   "execution_count": null,
   "metadata": {},
   "outputs": [],
   "source": [
    "df = read_csv('ensemble_prediction_valset.csv')\n",
    "\n",
    "def cost_threshold(threshold):\n",
    "    prediction_threshold = df['1 probability'] > threshold\n",
    "\n",
    "    #~ = \"not\" pour les tableaux / & = \"and\" pour les tableaux / | = \"or\" pour les tableaux\n",
    "\n",
    "    P_pred = prediction_threshold\n",
    "    N_pred = ~prediction_threshold\n",
    "\n",
    "    P_real = (df['SeriousDlqin2yrs'] == 1)\n",
    "    N_real = (df['SeriousDlqin2yrs'] == 0)\n",
    "\n",
    "    TP = len(df.loc[P_pred & P_real])\n",
    "    TN = len(df.loc[N_pred & N_real])\n",
    "    FP = len(df.loc[P_pred & N_real])\n",
    "    FN = len(df.loc[N_pred & P_real])\n",
    "\n",
    "    TP_cost = 0\n",
    "    FN_cost = -2500\n",
    "    FP_cost = -500\n",
    "    TN_cost = 500\n",
    "\n",
    "    cost = TP * TP_cost\n",
    "    cost += TN * TN_cost\n",
    "    cost += FP * FP_cost\n",
    "    cost += FN * FN_cost\n",
    "\n",
    "    return cost\n",
    "\n",
    "import matplotlib.pyplot as plt\n",
    "%matplotlib inline\n",
    "table = [cost_threshold(n/1000) for n in range(0,1000)]\n",
    "plt.plot(table)\n",
    "\n",
    "# cherche le maximum de la courbe\n",
    "max_gain = max(table)\n",
    "max_threshold = table.index(max_gain)/1000\n",
    "print(f\"L'indice optimal est de {max_threshold} pour un gain de ${max_gain}\")\n",
    "\n",
    "#from scipy import polyfit\n",
    "import numpy\n",
    "import warnings\n",
    "x = []\n",
    "y = []\n",
    "for xi in range(0, len(table)):\n",
    "    y.append(table[xi])\n",
    "    x.append(table.index(table[xi]))\n",
    "   \n",
    "coeff = polyfit(x, y, 2)\n",
    "print(coeff)\n",
    "\n",
    "plt.plot(x,y,\"*\")\n",
    "plt.plot(x,coeff[0]*x**2+coeff[1]*x+coeff[2])\n",
    "plt.show()"
   ]
  },
  {
   "cell_type": "markdown",
   "metadata": {},
   "source": [
    "## Compte Erreurs (Bastien)"
   ]
  },
  {
   "cell_type": "code",
   "execution_count": null,
   "metadata": {},
   "outputs": [],
   "source": [
    "df = read_csv('confusion_matrix.csv', header=0, index_col=False)\n",
    "matrix =df.groupby(['confusion']).confusion.count()  # le deuxième Error est la répétition du nom de la colonne Error\n",
    "print(matrix)\n",
    "# df_matrix = DataFrame(data={'Predicted_1':[matrix.TP, matrix.FP], 'Predicted_0':[matrix.TN, matrix.FN]})\n",
    "# df_matrix"
   ]
  },
  {
   "cell_type": "markdown",
   "metadata": {},
   "source": [
    "## Matrice de confusion (Laurent)"
   ]
  },
  {
   "cell_type": "code",
   "execution_count": null,
   "metadata": {},
   "outputs": [],
   "source": [
    "df = read_csv('confusion_matrix.csv', header=0, index_col=False)\n",
    "df\n",
    "confusion_matrix = df['confusion'].value_counts()\n",
    "print(confusion_matrix)"
   ]
  },
  {
   "cell_type": "markdown",
   "metadata": {},
   "source": [
    "# calcul de l'AUC "
   ]
  },
  {
   "cell_type": "code",
   "execution_count": null,
   "metadata": {},
   "outputs": [],
   "source": [
    "# grouper tous les positifs\n",
    "# comparer chaque positif à tous les négatifs\n",
    "# compter le nombre de fois où le 1_proba d'un positif est supérieur au 1_proba d'un négatif\n",
    "# faire le ratio sur le nombre total de ocmbianaisons\n",
    "\n",
    "df = read_csv('confusion_matrix.csv', header=0, index_col=False)\n",
    "df\n",
    "df_positives = df.loc[df['SeriousDlqin2yrs_predict'] == 1]\n",
    "df_negatives = df.loc[df['SeriousDlqin2yrs_predict'] == 0]"
   ]
  },
  {
   "cell_type": "code",
   "execution_count": 6,
   "metadata": {},
   "outputs": [
    {
     "ename": "NameError",
     "evalue": "name 'df_positives' is not defined",
     "output_type": "error",
     "traceback": [
      "\u001b[0;31m---------------------------------------------------------------------------\u001b[0m",
      "\u001b[0;31mNameError\u001b[0m                                 Traceback (most recent call last)",
      "\u001b[0;32m<ipython-input-6-71554898392d>\u001b[0m in \u001b[0;36m<module>\u001b[0;34m\u001b[0m\n\u001b[0;32m----> 1\u001b[0;31m \u001b[0mdf_positives\u001b[0m\u001b[0;34m.\u001b[0m\u001b[0miloc\u001b[0m\u001b[0;34m[\u001b[0m\u001b[0;36m1\u001b[0m\u001b[0;34m]\u001b[0m\u001b[0;34m\u001b[0m\u001b[0;34m\u001b[0m\u001b[0m\n\u001b[0m",
      "\u001b[0;31mNameError\u001b[0m: name 'df_positives' is not defined"
     ]
    }
   ],
   "source": [
    "df_positives.iloc[1]"
   ]
  },
  {
   "cell_type": "code",
   "execution_count": null,
   "metadata": {},
   "outputs": [],
   "source": [
    "for row_pos in range(len(df_positives)):\n",
    "    for row_neg in range(len(df_negatives)):\n",
    "        if df_positives.iloc['1 probability'][row_pos] > df_negatives.iloc['0 probability'][row_neg]:\n",
    "            count_pos += 1\n",
    "        \n",
    "df_positives\n",
    "df_negatives"
   ]
  },
  {
   "cell_type": "markdown",
   "metadata": {},
   "source": [
    "## AUC Laurent"
   ]
  },
  {
   "cell_type": "code",
   "execution_count": null,
   "metadata": {},
   "outputs": [],
   "source": [
    "df = read_csv('ensemble_prediction_valset.csv', header =0, index_col = False)\n",
    "df"
   ]
  },
  {
   "cell_type": "code",
   "execution_count": null,
   "metadata": {},
   "outputs": [],
   "source": [
    "# Tri des données pour préparer le calcul de AUC\n",
    "df_sorted = df.sort_values('1 probability', ascending=False)\n",
    "\n",
    "#  Calcul de la somme des négatifs en dessous de chaque positifs (1 probability est inférieur)\n",
    "\n",
    "N_sum_below = 0\n",
    "for index in range(len(df_sorted)):\n",
    "    if df_sorted['SeriousDlqin2yrs'].iloc[index] == 1:\n",
    "        N_sum_below += df_sorted['SeriousDlqin2yrs'][index+1:].value_counts().loc[0]\n",
    "\n",
    "# Calcul du produit nombre N * nombre P\n",
    "N_number = df_sorted['SeriousDlqin2yrs'].value_counts().loc[0]\n",
    "P_number  = df_sorted['SeriousDlqin2yrs'].value_counts().loc[1]\n",
    "NP_product = N_number * P_number\n",
    "\n",
    "# Calcul auc\n",
    "AUC = N_sum_below / NP_product\n",
    "AUC\n"
   ]
  },
  {
   "cell_type": "markdown",
   "metadata": {},
   "source": [
    "## AUC Maud"
   ]
  },
  {
   "cell_type": "code",
   "execution_count": null,
   "metadata": {},
   "outputs": [],
   "source": [
    "df = read_csv('ensemble_prediction_valset.csv', header =0, index_col = False)\n",
    "df"
   ]
  },
  {
   "cell_type": "code",
   "execution_count": null,
   "metadata": {},
   "outputs": [],
   "source": [
    "positive = (df['SeriousDlqin2yrs'] == 1)\n",
    "nb_positive=len(df.loc[positive])\n",
    "nb_negative=len(df.loc[~positive])\n",
    "\n",
    "result = df[['SeriousDlqin2yrs','1 probability']]\n",
    "threshold_list = result.sort_values(by='1 probability',ascending=False)['SeriousDlqin2yrs'].values\n",
    "\n",
    "auc = 0\n",
    "P_cumul = 0\n",
    "\n",
    "%%timeit\n",
    "for i in range(len(threshold_list)):\n",
    "    if threshold_list[i] == 1:\n",
    "        P_cumul += 1\n",
    "    else:\n",
    "        auc += P_cumul\n",
    "        \n",
    "auc = auc/(nb_positive*nb_negative)\n",
    "\n",
    "print(auc)"
   ]
  },
  {
   "cell_type": "markdown",
   "metadata": {},
   "source": [
    "## AUC Louis"
   ]
  },
  {
   "cell_type": "code",
   "execution_count": null,
   "metadata": {},
   "outputs": [],
   "source": [
    "mask_positives = (val_pred.SeriousDlqin2yrs==1)\n",
    "mask_negatives = (val_pred.SeriousDlqin2yrs==0)\n",
    "positives = val_pred[mask_positives]\n",
    "negatives = val_pred[mask_negatives]\n",
    "\n",
    "c = 0\n",
    "n = positives.shape[0] * negatives.shape[0]\n",
    "for proba_positive in positives['1 Proba']:\n",
    "    count = negatives[ negatives['1 Proba'] < proba_positive ].shape[0]\n",
    "    c = c+count\n",
    "\n",
    "auc = c/n\n",
    "print(auc)"
   ]
  },
  {
   "cell_type": "markdown",
   "metadata": {},
   "source": [
    "## AUC Louis (à coder)\n",
    "### Mesure indépendante du seuil choisi. Traduit la performance du modèle sans tenir compte du gain final. Traduit la capacité du modèle à distinguer les >0 et les <0"
   ]
  },
  {
   "cell_type": "code",
   "execution_count": null,
   "metadata": {},
   "outputs": [],
   "source": [
    "c = 0\n",
    "pos\n",
    "neg\n",
    "for p in pos:\n",
    "    for n in neg:\n",
    "        if p['1 proba'] > n['1 proba']:\n",
    "            c += 1\n",
    "N = pos.shape * neg.shape\n",
    "AUC = C / N"
   ]
  },
  {
   "cell_type": "markdown",
   "metadata": {},
   "source": [
    "## AUC Guillaume"
   ]
  },
  {
   "cell_type": "code",
   "execution_count": null,
   "metadata": {},
   "outputs": [],
   "source": [
    "is_positive = (prediction['SeriousDlqin2yrs'] == 1)\n",
    "df_threshold=DataFrame(index=prediction['1 probability'])\n",
    "df_threshold['positive'] = is_positive.values\n",
    "df_threshold.sort_index(inplace=True, ascending=False)\n",
    "\n",
    "df_threshold['positive_sum'] =  df_threshold['positive'].cumsum()\n",
    "auc=df_threshold.loc[~df_threshold['positive']]['positive_sum'].sum()/(nb_positive*nb_negative)"
   ]
  },
  {
   "cell_type": "markdown",
   "metadata": {},
   "source": [
    "### Summary report"
   ]
  },
  {
   "cell_type": "code",
   "execution_count": 5,
   "metadata": {},
   "outputs": [
    {
     "data": {
      "image/png": "[encoded data removed]",
      "text/plain": [
       "<Figure size 432x288 with 1 Axes>"
      ]
     },
     "metadata": {
      "needs_background": "light"
     },
     "output_type": "display_data"
    }
   ],
   "source": [
    "model = api.get_ensemble(\"ensemble/5dacd57a7811dd7f2d003bf8\")\n",
    "#importances = api.pprint(model['object']['importance'])\n",
    "importances = model['object']['importance']\n",
    "#importances['000000']\n",
    "\n",
    "importances_named = dict()\n",
    "for column, importance in importances.items():\n",
    "    column_name = model['object']['ensemble']['fields'][column]['name']\n",
    "    importances_named[column_name] = [importance * 100]\n",
    "df = DataFrame.from_dict(importances_named, orient='index')\n",
    "df\n",
    "df = df.sort_values(0, ascending=False)\n",
    "df.plot(kind='bar', color='green', legend=False);\n",
    "#hist = df.hist()\n",
    "#hist"
   ]
  },
  {
   "cell_type": "code",
   "execution_count": null,
   "metadata": {},
   "outputs": [],
   "source": [
    "model = api.get_ensemble(\"ensemble/5dacd57a7811dd7f2d003bf8\")\n",
    "#importances = api.pprint(model['object']['importance'])\n",
    "importances = model['object']['importance']\n",
    "#importances['000000']\n",
    "\n",
    "data = importances_named\n",
    "names = list(data.keys())\n",
    "values = list(data.values())\n",
    "\n",
    "fig, axs = plt.subplots(figsize=(20, 5), sharey=True)\n",
    "axs.bar(names, values)\n",
    "\n",
    "xtick_labels = ['Id','RevolvingUtilizationOfUnsecuredLines', 'age', 'DebtRatio', 'MonthlyIncome', 'MonthlyDebt', 'DisposableIncome', 'BalancedIncome', 'NumberOfOpenCreditLinesAndLoans', 'NumberRealEstateLoansOrLines', 'NumberOfTime30-59DaysPastDueNotWorse', 'NumberOfTime60-89DaysPastDueNotWorse', 'NumberOfTimes90DaysLate', 'WeightedOfLatePayment', 'NumberOfDependents', 'SeriousDlqin2yrs']\n",
    "plt.xticks(names, xtick_labels, rotation=30)\n",
    "\n",
    "fig.suptitle('Importance fields')"
   ]
  },
  {
   "cell_type": "code",
   "execution_count": null,
   "metadata": {},
   "outputs": [],
   "source": [
    "importance = api.pprint(model['object'])\n",
    "importance"
   ]
  },
  {
   "cell_type": "markdown",
   "metadata": {},
   "source": [
    "## Courbe de performance\n",
    "tracer courbe AUC = f(nbre data train) : itérer de 0 à 80% du dataset trainfull (0 à 100% du split)\n",
    "\n",
    "### Bonus\n",
    "mesurer la performance sur le train set"
   ]
  },
  {
   "cell_type": "markdown",
   "metadata": {},
   "source": [
    "### Récupération AUC sur validation"
   ]
  },
  {
   "cell_type": "code",
   "execution_count": null,
   "metadata": {},
   "outputs": [],
   "source": [
    "evaluation = api.get_evaluation('evaluation/5dacd5997811dd0137000513')\n",
    "api.pprint(evaluation['object']['result']['model'])"
   ]
  },
  {
   "cell_type": "code",
   "execution_count": null,
   "metadata": {},
   "outputs": [],
   "source": [
    "\n",
    "auc = evaluation['object']['result']['model']['per_class_statistics'][1]['area_under_roc_curve']\n",
    "auc"
   ]
  },
  {
   "cell_type": "markdown",
   "metadata": {},
   "source": [
    "# Courbe de Performance"
   ]
  },
  {
   "cell_type": "markdown",
   "metadata": {},
   "source": [
    "### Création de 10 splits de 10% de train_set"
   ]
  },
  {
   "cell_type": "code",
   "execution_count": null,
   "metadata": {},
   "outputs": [],
   "source": [
    "# sépratation en 80/20 du train_set\n",
    "train_set_split_20 = api.create_dataset('dataset/5dacd5607811dd7f2d003bf2', {\"name\": \"train_split_20\",\n",
    "                                                                                  \"sample_rate\": 0.2})\n",
    "train_set_split_80 = api.create_dataset('dataset/5dacd5607811dd7f2d003bf2', {\"name\": \"train_split_80\",\n",
    "                                                                                  \"sample_rate\": 0.2,\n",
    "                                                                                    \"out_of_bag\":True})\n",
    "\n",
    "# séparation de la fraction 20 en 2 50/50 ->  2 fractions de 10%\n",
    "train_set_split_1 = api.create_dataset(train_set_split_20, {\"name\": \"train_split_1\",\n",
    "                                                           \"sample_rate\": 0.5})\n",
    "train_set_split_2 = api.create_dataset(train_set_split_20, {\"name\": \"train_split_2\",\n",
    "                                                           \"sample_rate\": 0.5,\n",
    "                                                           \"out_of_bag\": True})\n",
    "\n",
    "\n",
    "# séparation de la fraction 80 en 2 * 40%\n",
    "train_set_split_40_1 = api.create_dataset(train_set_split_80, {\"name\": \"train_split_40_1\",\n",
    "                                                           \"sample_rate\": 0.5})\n",
    "train_set_split_40_2 = api.create_dataset(train_set_split_80, {\"name\": \"train_split_40_2\",\n",
    "                                                           \"sample_rate\": 0.5,\n",
    "                                                           \"out_of_bag\": True})\n",
    "\n",
    "# séparation des fractions 40% en 2 * 20% chacune\n",
    "train_set_split_20_1 = api.create_dataset(train_set_split_40_1, {\"name\": \"train_split_20_1\",\n",
    "                                                           \"sample_rate\": 0.5})\n",
    "train_set_split_20_2 = api.create_dataset(train_set_split_40_1, {\"name\": \"train_split_20_2\",\n",
    "                                                           \"sample_rate\": 0.5,\n",
    "                                                           \"out_of_bag\": True})\n",
    "\n",
    "train_set_split_20_3 = api.create_dataset(train_set_split_40_2, {\"name\": \"train_split_20_3\",\n",
    "                                                           \"sample_rate\": 0.5})\n",
    "train_set_split_20_4 = api.create_dataset(train_set_split_40_2, {\"name\": \"train_split_20_4\",\n",
    "                                                           \"sample_rate\": 0.5,\n",
    "                                                           \"out_of_bag\": True})\n",
    "\n",
    "# séparation de chaque fraction de 20% en 2 fractions de 10% -> 8 fractions de 10%\n",
    "train_set_split_3 = api.create_dataset(train_set_split_20_1, {\"name\": \"train_split_3\",\n",
    "                                                           \"sample_rate\": 0.5})\n",
    "train_set_split_4 = api.create_dataset(train_set_split_20_1, {\"name\": \"train_split_4\",\n",
    "                                                           \"sample_rate\": 0.5,\n",
    "                                                           \"out_of_bag\": True})\n",
    "\n",
    "train_set_split_5 = api.create_dataset(train_set_split_20_2, {\"name\": \"train_split_5\",\n",
    "                                                           \"sample_rate\": 0.5})\n",
    "train_set_split_6 = api.create_dataset(train_set_split_20_2, {\"name\": \"train_split_6\",\n",
    "                                                           \"sample_rate\": 0.5,\n",
    "                                                           \"out_of_bag\": True})\n",
    "\n",
    "train_set_split_7 = api.create_dataset(train_set_split_20_3, {\"name\": \"train_split_7\",\n",
    "                                                           \"sample_rate\": 0.5})\n",
    "train_set_split_8 = api.create_dataset(train_set_split_20_3, {\"name\": \"train_split_8\",\n",
    "                                                           \"sample_rate\": 0.5,\n",
    "                                                           \"out_of_bag\": True})\n",
    "\n",
    "train_set_split_9 = api.create_dataset(train_set_split_20_4, {\"name\": \"train_split_9\",\n",
    "                                                           \"sample_rate\": 0.5})\n",
    "train_set_split_10 = api.create_dataset(train_set_split_20_4, {\"name\": \"train_split_10\",\n",
    "                                                           \"sample_rate\": 0.5,\n",
    "                                                           \"out_of_bag\": True})\n"
   ]
  },
  {
   "cell_type": "code",
   "execution_count": 198,
   "metadata": {
    "scrolled": false
   },
   "outputs": [],
   "source": [
    "# Récupération des datasets\n",
    "split_list = [\n",
    "    train_set_split_1,\n",
    "    train_set_split_2,\n",
    "    train_set_split_3,\n",
    "    train_set_split_4,\n",
    "    train_set_split_5,\n",
    "    train_set_split_6,\n",
    "    train_set_split_7,\n",
    "    train_set_split_8,\n",
    "    train_set_split_9,\n",
    "    train_set_split_10\n",
    "]\n",
    "\n",
    "   "
   ]
  },
  {
   "cell_type": "markdown",
   "metadata": {},
   "source": [
    "### Modèle ensemble"
   ]
  },
  {
   "cell_type": "code",
   "execution_count": null,
   "metadata": {},
   "outputs": [],
   "source": [
    "dataset = []\n",
    "ensemble = []\n",
    "\n",
    "# Création des 10 modèles\n",
    "for split in range(len(split_list)):\n",
    "    dataset.append(split_list[split]) # possibilité d'append directement les splits sans passer par dataset\n",
    "    ensemble.append(api.create_ensemble(dataset,{\"name\": \"ensemble_\"+(str(split+1)),\n",
    "     \"objective_field\": \"SeriousDlqin2yrs\"}))\n",
    "    api.ok(ensemble[split])"
   ]
  },
  {
   "cell_type": "code",
   "execution_count": 199,
   "metadata": {},
   "outputs": [],
   "source": [
    "# Evaluation des modèles sur le validation_set\n",
    "evaluation = []\n",
    "\n",
    "for model_number in range(len(ensemble)):\n",
    "    evaluation.append(api.create_evaluation(ensemble[model_number], 'dataset/5dacd5617811dd7f2d003bf5'))\n",
    "    api.ok(evaluation[model_number])\n"
   ]
  },
  {
   "cell_type": "code",
   "execution_count": 200,
   "metadata": {},
   "outputs": [],
   "source": [
    "# Récupération des AUC\n",
    "auc = []\n",
    "for eval_number in range(len(evaluation)):\n",
    "    auc.append(evaluation[eval_number]['object']['result']['model']['per_class_statistics'][1]['area_under_roc_curve'])"
   ]
  },
  {
   "cell_type": "code",
   "execution_count": null,
   "metadata": {},
   "outputs": [],
   "source": [
    "train_percent = [0.1, 0.2, 0.3, 0.4, 0.5, 0.6, 0.7, 0.8, 0.9, 1.0]\n",
    "performance_ensemble = auc\n"
   ]
  },
  {
   "cell_type": "code",
   "execution_count": 251,
   "metadata": {
    "scrolled": true
   },
   "outputs": [
    {
     "data": {
      "image/png": "[encoded data removed]",
      "text/plain": [
       "<Figure size 432x288 with 1 Axes>"
      ]
     },
     "metadata": {
      "needs_background": "light"
     },
     "output_type": "display_data"
    }
   ],
   "source": [
    "# Traçage de la courbe\n",
    "import matplotlib.pyplot as plt\n",
    "%matplotlib inline\n",
    "plt.plot(train_percent, performance_ensemble, ':go')\n",
    "plt.xlabel('train_set percent')\n",
    "plt.ylabel('AUC')\n",
    "plt.title('Performance curve')\n",
    "plt.legend(\"ensemble\")\n",
    "plt.show()"
   ]
  },
  {
   "cell_type": "markdown",
   "metadata": {},
   "source": [
    "### Modèle Deepnet"
   ]
  },
  {
   "cell_type": "code",
   "execution_count": 253,
   "metadata": {},
   "outputs": [],
   "source": [
    "dataset_deepnet = []\n",
    "deepnet = []\n",
    "\n",
    "# Création des 10 modèles\n",
    "for split in range(len(split_list)):\n",
    "    dataset_deepnet.append(split_list[split]) # possibilité d'append directement les splits sans passer par dataset\n",
    "    deepnet.append(api.create_deepnet(dataset_deepnet,{\"name\": \"deepnet_\"+(str(split+1)),\n",
    "     \"objective_field\": \"SeriousDlqin2yrs\"}))\n",
    "    api.ok(deepnet[split])\n",
    "    "
   ]
  },
  {
   "cell_type": "code",
   "execution_count": 254,
   "metadata": {},
   "outputs": [],
   "source": [
    "# Evaluation des modèles sur le validation_set\n",
    "evaluation_deepnet = []\n",
    "\n",
    "for model_number in range(len(deepnet)):\n",
    "    evaluation_deepnet.append(api.create_evaluation(deepnet[model_number], 'dataset/5dacd5617811dd7f2d003bf5'))\n",
    "    api.ok(evaluation_deepnet[model_number])"
   ]
  },
  {
   "cell_type": "code",
   "execution_count": 257,
   "metadata": {},
   "outputs": [],
   "source": [
    "# Récupération des AUC\n",
    "auc_deepnet = []\n",
    "for eval_number in range(len(evaluation_deepnet)):\n",
    "    auc_deepnet.append(evaluation_deepnet[eval_number]['object']['result']['model']['per_class_statistics'][1]['area_under_roc_curve'])\n",
    "performance_deepnet = auc_deepnet   "
   ]
  },
  {
   "cell_type": "code",
   "execution_count": 259,
   "metadata": {},
   "outputs": [
    {
     "data": {
      "image/png": "[encoded data removed]",
      "text/plain": [
       "<Figure size 432x288 with 1 Axes>"
      ]
     },
     "metadata": {
      "needs_background": "light"
     },
     "output_type": "display_data"
    }
   ],
   "source": [
    "# Traçage de la courbe\n",
    "import matplotlib.pyplot as plt\n",
    "%matplotlib inline\n",
    "plt.plot(train_percent, performance_deepnet, ':mo')\n",
    "plt.xlabel('train_set percent')\n",
    "plt.ylabel('AUC')\n",
    "plt.title('Performance curve')\n",
    "plt.legend(\"deepnet\")\n",
    "plt.show()"
   ]
  },
  {
   "cell_type": "code",
   "execution_count": 272,
   "metadata": {},
   "outputs": [
    {
     "data": {
      "image/png": "[encoded data removed]",
      "text/plain": [
       "<Figure size 720x360 with 1 Axes>"
      ]
     },
     "metadata": {
      "needs_background": "light"
     },
     "output_type": "display_data"
    }
   ],
   "source": [
    "# Traçage de la courbe combinée\n",
    "import matplotlib.pyplot as plt\n",
    "%matplotlib inline\n",
    "plt.rcParams[\"figure.figsize\"] = (10,5)\n",
    "plt.plot(train_percent, performance_ensemble, ':go', train_percent, performance_deepnet, ':mo')\n",
    "plt.xlabel('train_set percent')\n",
    "plt.ylabel('AUC')\n",
    "plt.title('Performance curve')\n",
    "plt.legend(['ensemble', 'deepnet'])\n",
    "plt.show()"
   ]
  },
  {
   "cell_type": "code",
   "execution_count": 273,
   "metadata": {},
   "outputs": [],
   "source": [
    "train_sets = []\n",
    "train_sets.append(api.get_dataset('dataset/5dbc37ed5299631c8200e5ac'))\n",
    "train_sets.append(api.get_dataset('dataset/5dbc37eee47684746800eefd'))\n",
    "train_sets.append(api.get_dataset('dataset/5dbc381de47684746800ef03'))\n",
    "train_sets.append(api.get_dataset('dataset/5dbc381e7811dd7f2d00dcbd'))\n",
    "train_sets.append(api.get_dataset('dataset/5dbc381f5299631c8200e5b8'))\n",
    "train_sets.append(api.get_dataset('dataset/5dbc3820e47684746800ef06'))\n",
    "train_sets.append(api.get_dataset('dataset/5dbc38217811dd7f2d00dcc0'))\n",
    "train_sets.append(api.get_dataset('dataset/5dbc38225299631c8200e5bb'))\n",
    "train_sets.append(api.get_dataset('dataset/5dbc3823e47684746800ef09'))\n",
    "train_sets.append(api.get_dataset('dataset/5dbc38247811dd7f2d00dcc3'))"
   ]
  },
  {
   "cell_type": "code",
   "execution_count": null,
   "metadata": {},
   "outputs": [],
   "source": [
    "# Evaluation sur le train:\n",
    "evaluation_ontrain = []\n",
    "\n",
    "for model_number in range(len(ensemble)):\n",
    "    evaluation_train.append(api.create_evaluation(ensemble[model_number], 'dataset/5dacd5617811dd7f2d003bf5'))\n",
    "    api.ok(evaluation[model_number])\n",
    "\n"
   ]
  },
  {
   "cell_type": "code",
   "execution_count": 4,
   "metadata": {},
   "outputs": [
    {
     "name": "stdout",
     "output_type": "stream",
     "text": [
      "Available Themes: \r\n",
      "   chesterish\r\n",
      "   grade3\r\n",
      "   gruvboxd\r\n",
      "   gruvboxl\r\n",
      "   monokai\r\n",
      "   oceans16\r\n",
      "   onedork\r\n",
      "   solarizedd\r\n",
      "   solarizedl\r\n"
     ]
    }
   ],
   "source": [
    "!jt -l"
   ]
  },
  {
   "cell_type": "code",
   "execution_count": null,
   "metadata": {},
   "outputs": [],
   "source": []
  }
 ],
 "metadata": {
  "kernelspec": {
   "display_name": "Python 3",
   "language": "python",
   "name": "python3"
  },
  "language_info": {
   "codemirror_mode": {
    "name": "ipython",
    "version": 3
   },
   "file_extension": ".py",
   "mimetype": "text/x-python",
   "name": "python",
   "nbconvert_exporter": "python",
   "pygments_lexer": "ipython3",
   "version": "3.7.4"
  },
  "toc": {
   "base_numbering": 1,
   "nav_menu": {},
   "number_sections": true,
   "sideBar": true,
   "skip_h1_title": false,
   "title_cell": "Table of Contents",
   "title_sidebar": "Contents",
   "toc_cell": false,
   "toc_position": {},
   "toc_section_display": true,
   "toc_window_display": true
  }
 },
 "nbformat": 4,
 "nbformat_minor": 2
}
