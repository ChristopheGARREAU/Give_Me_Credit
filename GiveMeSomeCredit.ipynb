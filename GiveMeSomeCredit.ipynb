{
 "cells": [
  {
   "cell_type": "code",
   "execution_count": null,
   "metadata": {},
   "outputs": [],
   "source": [
    "from pandas import DataFrame\n",
    "from pandas import read_csv\n",
    "from bigml.api import BigML"
   ]
  },
  {
   "cell_type": "code",
   "execution_count": null,
   "metadata": {},
   "outputs": [],
   "source": [
    "df = read_csv('cs-training.csv', header=0, index_col=0)\n",
    "df.fillna(0, inplace=True)\n",
    "df['NumberOfTimeTotalDelay'] = df['NumberOfTime30-59DaysPastDueNotWorse']\n",
    "                                + df['NumberOfTimes90DaysLate']\n",
    "                                + df['NumberOfTime60-89DaysPastDueNotWorse']\n",
    "df['isOld'] =df['age']>70\n",
    "df.to_csv('train_full.csv')"
   ]
  },
  {
   "cell_type": "code",
   "execution_count": null,
   "metadata": {},
   "outputs": [],
   "source": [
    "df = read_csv('cs-test.csv', header=0, index_col=0)\n",
    "df.fillna(0, inplace=True)\n",
    "df['NumberOfTimeTotalDelay'] = df['NumberOfTime30-59DaysPastDueNotWorse']\n",
    "                                + df['NumberOfTimes90DaysLate']\n",
    "                                + df['NumberOfTime60-89DaysPastDueNotWorse']\n",
    "df['isOld'] =df['age']>70\n",
    "df.to_csv('test_full.csv')"
   ]
  },
  {
   "cell_type": "code",
   "execution_count": null,
   "metadata": {},
   "outputs": [],
   "source": [
    "api = BigML(project='project/5d94a344eba31d460c000235')"
   ]
  },
  {
   "cell_type": "code",
   "execution_count": null,
   "metadata": {},
   "outputs": [],
   "source": [
    "source_train = api.create_source('train_full.csv')\n",
    "origin_dataset = api.create_dataset(source_train)\n",
    "source_test = api.create_source('test_full.csv')\n",
    "test_dataset = api.create_dataset(source_test)"
   ]
  },
  {
   "cell_type": "code",
   "execution_count": null,
   "metadata": {},
   "outputs": [],
   "source": [
    "train_dataset = api.create_dataset(\n",
    "    origin_dataset, {\"name\": \"Training_split_Jupyter\",\n",
    "                     \"sample_rate\": 0.8, \"seed\": \"my seed\"})\n",
    "val_dataset = api.create_dataset(\n",
    "    origin_dataset, {\"name\": \"Validation_split_Jupyter\",\n",
    "                     \"sample_rate\": 0.8, \"seed\": \"my seed\",\n",
    "                     \"out_of_bag\": True})"
   ]
  },
  {
   "cell_type": "code",
   "execution_count": null,
   "metadata": {},
   "outputs": [],
   "source": [
    "ensemble = api.create_ensemble(train_dataset,{\"name\": \"ensemble_Jupyter\",\n",
    "     \"objective_field\": \"SeriousDlqin2yrs\"})"
   ]
  },
  {
   "cell_type": "code",
   "execution_count": null,
   "metadata": {},
   "outputs": [],
   "source": [
    "evaluation = api.create_evaluation(ensemble, val_dataset)"
   ]
  },
  {
   "cell_type": "code",
   "execution_count": null,
   "metadata": {},
   "outputs": [],
   "source": [
    "batch_prediction = api.create_batch_prediction(ensemble, test_dataset, {\n",
    "    \"name\": \"ensemble_prediction_Jupyter\", \"all_fields\": True,\n",
    "    \"header\": True,\n",
    "    \"confidence\": True,\n",
    "    \"probabilities\": True})\n",
    "api.ok(batch_prediction)"
   ]
  },
  {
   "cell_type": "code",
   "execution_count": null,
   "metadata": {},
   "outputs": [],
   "source": [
    "api.download_batch_prediction(batch_prediction,\n",
    "    filename='ensemble_prediction_Jupyter.csv')"
   ]
  },
  {
   "cell_type": "code",
   "execution_count": null,
   "metadata": {},
   "outputs": [],
   "source": [
    "df = read_csv('ensemble_prediction_Jupyter.csv', header=0, index_col=0)\n",
    "df2 =df [['1 probability']]\n",
    "df2.index.names = ['Id']\n",
    "df2.rename(columns={\"1 probability\": \"Probability\"},inplace=True)"
   ]
  },
  {
   "cell_type": "code",
   "execution_count": null,
   "metadata": {},
   "outputs": [],
   "source": [
    "df2.to_csv('prediction_kaggle.csv')"
   ]
  }
 ],
 "metadata": {
  "kernelspec": {
   "display_name": "Python 3",
   "language": "python",
   "name": "python3"
  },
  "language_info": {
   "codemirror_mode": {
    "name": "ipython",
    "version": 3
   },
   "file_extension": ".py",
   "mimetype": "text/x-python",
   "name": "python",
   "nbconvert_exporter": "python",
   "pygments_lexer": "ipython3",
   "version": "3.7.3"
  }
 },
 "nbformat": 4,
 "nbformat_minor": 2
}
